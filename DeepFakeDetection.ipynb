{
  "nbformat": 4,
  "nbformat_minor": 0,
  "metadata": {
    "colab": {
      "provenance": [],
      "gpuType": "T4"
    },
    "kernelspec": {
      "name": "python3",
      "display_name": "Python 3"
    },
    "language_info": {
      "name": "python"
    },
    "accelerator": "GPU",
    "widgets": {
      "application/vnd.jupyter.widget-state+json": {
        "0f541ae304294ce6913dc0e58bf2652c": {
          "model_module": "@jupyter-widgets/controls",
          "model_name": "HBoxModel",
          "model_module_version": "1.5.0",
          "state": {
            "_dom_classes": [],
            "_model_module": "@jupyter-widgets/controls",
            "_model_module_version": "1.5.0",
            "_model_name": "HBoxModel",
            "_view_count": null,
            "_view_module": "@jupyter-widgets/controls",
            "_view_module_version": "1.5.0",
            "_view_name": "HBoxView",
            "box_style": "",
            "children": [
              "IPY_MODEL_9ff89e5c7a0a4a37a300081d8826e09a",
              "IPY_MODEL_a10d64f3bcec45d79f114689e05f64b9",
              "IPY_MODEL_390f3297a2374f7dbf00a4c0ddc8f064"
            ],
            "layout": "IPY_MODEL_7b32705b15cd43ca9d76e2b12bc41c2b"
          }
        },
        "9ff89e5c7a0a4a37a300081d8826e09a": {
          "model_module": "@jupyter-widgets/controls",
          "model_name": "HTMLModel",
          "model_module_version": "1.5.0",
          "state": {
            "_dom_classes": [],
            "_model_module": "@jupyter-widgets/controls",
            "_model_module_version": "1.5.0",
            "_model_name": "HTMLModel",
            "_view_count": null,
            "_view_module": "@jupyter-widgets/controls",
            "_view_module_version": "1.5.0",
            "_view_name": "HTMLView",
            "description": "",
            "description_tooltip": null,
            "layout": "IPY_MODEL_e8bde837e2864d50bb465cce11004327",
            "placeholder": "​",
            "style": "IPY_MODEL_b99a4a007087409aaa2102c64422dd9c",
            "value": "model.safetensors: 100%"
          }
        },
        "a10d64f3bcec45d79f114689e05f64b9": {
          "model_module": "@jupyter-widgets/controls",
          "model_name": "FloatProgressModel",
          "model_module_version": "1.5.0",
          "state": {
            "_dom_classes": [],
            "_model_module": "@jupyter-widgets/controls",
            "_model_module_version": "1.5.0",
            "_model_name": "FloatProgressModel",
            "_view_count": null,
            "_view_module": "@jupyter-widgets/controls",
            "_view_module_version": "1.5.0",
            "_view_name": "ProgressView",
            "bar_style": "success",
            "description": "",
            "description_tooltip": null,
            "layout": "IPY_MODEL_ecf6830568714195bf0baa8e50505168",
            "max": 77933206,
            "min": 0,
            "orientation": "horizontal",
            "style": "IPY_MODEL_947bbb8741014870996eae903f650091",
            "value": 77933206
          }
        },
        "390f3297a2374f7dbf00a4c0ddc8f064": {
          "model_module": "@jupyter-widgets/controls",
          "model_name": "HTMLModel",
          "model_module_version": "1.5.0",
          "state": {
            "_dom_classes": [],
            "_model_module": "@jupyter-widgets/controls",
            "_model_module_version": "1.5.0",
            "_model_name": "HTMLModel",
            "_view_count": null,
            "_view_module": "@jupyter-widgets/controls",
            "_view_module_version": "1.5.0",
            "_view_name": "HTMLView",
            "description": "",
            "description_tooltip": null,
            "layout": "IPY_MODEL_1dedf48cca084f2baaf893b0ca28650a",
            "placeholder": "​",
            "style": "IPY_MODEL_7d3f0406c20b455eaf3e554a3acc7b75",
            "value": " 77.9M/77.9M [00:00&lt;00:00, 141MB/s]"
          }
        },
        "7b32705b15cd43ca9d76e2b12bc41c2b": {
          "model_module": "@jupyter-widgets/base",
          "model_name": "LayoutModel",
          "model_module_version": "1.2.0",
          "state": {
            "_model_module": "@jupyter-widgets/base",
            "_model_module_version": "1.2.0",
            "_model_name": "LayoutModel",
            "_view_count": null,
            "_view_module": "@jupyter-widgets/base",
            "_view_module_version": "1.2.0",
            "_view_name": "LayoutView",
            "align_content": null,
            "align_items": null,
            "align_self": null,
            "border": null,
            "bottom": null,
            "display": null,
            "flex": null,
            "flex_flow": null,
            "grid_area": null,
            "grid_auto_columns": null,
            "grid_auto_flow": null,
            "grid_auto_rows": null,
            "grid_column": null,
            "grid_gap": null,
            "grid_row": null,
            "grid_template_areas": null,
            "grid_template_columns": null,
            "grid_template_rows": null,
            "height": null,
            "justify_content": null,
            "justify_items": null,
            "left": null,
            "margin": null,
            "max_height": null,
            "max_width": null,
            "min_height": null,
            "min_width": null,
            "object_fit": null,
            "object_position": null,
            "order": null,
            "overflow": null,
            "overflow_x": null,
            "overflow_y": null,
            "padding": null,
            "right": null,
            "top": null,
            "visibility": null,
            "width": null
          }
        },
        "e8bde837e2864d50bb465cce11004327": {
          "model_module": "@jupyter-widgets/base",
          "model_name": "LayoutModel",
          "model_module_version": "1.2.0",
          "state": {
            "_model_module": "@jupyter-widgets/base",
            "_model_module_version": "1.2.0",
            "_model_name": "LayoutModel",
            "_view_count": null,
            "_view_module": "@jupyter-widgets/base",
            "_view_module_version": "1.2.0",
            "_view_name": "LayoutView",
            "align_content": null,
            "align_items": null,
            "align_self": null,
            "border": null,
            "bottom": null,
            "display": null,
            "flex": null,
            "flex_flow": null,
            "grid_area": null,
            "grid_auto_columns": null,
            "grid_auto_flow": null,
            "grid_auto_rows": null,
            "grid_column": null,
            "grid_gap": null,
            "grid_row": null,
            "grid_template_areas": null,
            "grid_template_columns": null,
            "grid_template_rows": null,
            "height": null,
            "justify_content": null,
            "justify_items": null,
            "left": null,
            "margin": null,
            "max_height": null,
            "max_width": null,
            "min_height": null,
            "min_width": null,
            "object_fit": null,
            "object_position": null,
            "order": null,
            "overflow": null,
            "overflow_x": null,
            "overflow_y": null,
            "padding": null,
            "right": null,
            "top": null,
            "visibility": null,
            "width": null
          }
        },
        "b99a4a007087409aaa2102c64422dd9c": {
          "model_module": "@jupyter-widgets/controls",
          "model_name": "DescriptionStyleModel",
          "model_module_version": "1.5.0",
          "state": {
            "_model_module": "@jupyter-widgets/controls",
            "_model_module_version": "1.5.0",
            "_model_name": "DescriptionStyleModel",
            "_view_count": null,
            "_view_module": "@jupyter-widgets/base",
            "_view_module_version": "1.2.0",
            "_view_name": "StyleView",
            "description_width": ""
          }
        },
        "ecf6830568714195bf0baa8e50505168": {
          "model_module": "@jupyter-widgets/base",
          "model_name": "LayoutModel",
          "model_module_version": "1.2.0",
          "state": {
            "_model_module": "@jupyter-widgets/base",
            "_model_module_version": "1.2.0",
            "_model_name": "LayoutModel",
            "_view_count": null,
            "_view_module": "@jupyter-widgets/base",
            "_view_module_version": "1.2.0",
            "_view_name": "LayoutView",
            "align_content": null,
            "align_items": null,
            "align_self": null,
            "border": null,
            "bottom": null,
            "display": null,
            "flex": null,
            "flex_flow": null,
            "grid_area": null,
            "grid_auto_columns": null,
            "grid_auto_flow": null,
            "grid_auto_rows": null,
            "grid_column": null,
            "grid_gap": null,
            "grid_row": null,
            "grid_template_areas": null,
            "grid_template_columns": null,
            "grid_template_rows": null,
            "height": null,
            "justify_content": null,
            "justify_items": null,
            "left": null,
            "margin": null,
            "max_height": null,
            "max_width": null,
            "min_height": null,
            "min_width": null,
            "object_fit": null,
            "object_position": null,
            "order": null,
            "overflow": null,
            "overflow_x": null,
            "overflow_y": null,
            "padding": null,
            "right": null,
            "top": null,
            "visibility": null,
            "width": null
          }
        },
        "947bbb8741014870996eae903f650091": {
          "model_module": "@jupyter-widgets/controls",
          "model_name": "ProgressStyleModel",
          "model_module_version": "1.5.0",
          "state": {
            "_model_module": "@jupyter-widgets/controls",
            "_model_module_version": "1.5.0",
            "_model_name": "ProgressStyleModel",
            "_view_count": null,
            "_view_module": "@jupyter-widgets/base",
            "_view_module_version": "1.2.0",
            "_view_name": "StyleView",
            "bar_color": null,
            "description_width": ""
          }
        },
        "1dedf48cca084f2baaf893b0ca28650a": {
          "model_module": "@jupyter-widgets/base",
          "model_name": "LayoutModel",
          "model_module_version": "1.2.0",
          "state": {
            "_model_module": "@jupyter-widgets/base",
            "_model_module_version": "1.2.0",
            "_model_name": "LayoutModel",
            "_view_count": null,
            "_view_module": "@jupyter-widgets/base",
            "_view_module_version": "1.2.0",
            "_view_name": "LayoutView",
            "align_content": null,
            "align_items": null,
            "align_self": null,
            "border": null,
            "bottom": null,
            "display": null,
            "flex": null,
            "flex_flow": null,
            "grid_area": null,
            "grid_auto_columns": null,
            "grid_auto_flow": null,
            "grid_auto_rows": null,
            "grid_column": null,
            "grid_gap": null,
            "grid_row": null,
            "grid_template_areas": null,
            "grid_template_columns": null,
            "grid_template_rows": null,
            "height": null,
            "justify_content": null,
            "justify_items": null,
            "left": null,
            "margin": null,
            "max_height": null,
            "max_width": null,
            "min_height": null,
            "min_width": null,
            "object_fit": null,
            "object_position": null,
            "order": null,
            "overflow": null,
            "overflow_x": null,
            "overflow_y": null,
            "padding": null,
            "right": null,
            "top": null,
            "visibility": null,
            "width": null
          }
        },
        "7d3f0406c20b455eaf3e554a3acc7b75": {
          "model_module": "@jupyter-widgets/controls",
          "model_name": "DescriptionStyleModel",
          "model_module_version": "1.5.0",
          "state": {
            "_model_module": "@jupyter-widgets/controls",
            "_model_module_version": "1.5.0",
            "_model_name": "DescriptionStyleModel",
            "_view_count": null,
            "_view_module": "@jupyter-widgets/base",
            "_view_module_version": "1.2.0",
            "_view_name": "StyleView",
            "description_width": ""
          }
        }
      }
    }
  },
  "cells": [
    {
      "cell_type": "markdown",
      "source": [
        "# DEEPFAKE DETECTION MODEL"
      ],
      "metadata": {
        "id": "VV6RkjZYhZLX"
      }
    },
    {
      "cell_type": "markdown",
      "source": [
        "## SETUP AND INSTALLATIONS"
      ],
      "metadata": {
        "id": "GBRvcSlWhixX"
      }
    },
    {
      "cell_type": "code",
      "source": [
        "!pip install torch torchvision torchaudio\n",
        "!pip install opencv-python\n",
        "!pip install facenet-pytorch\n",
        "!pip install albumentations\n",
        "!pip install scikit-learn\n",
        "!pip install matplotlib seaborn\n",
        "!pip install tqdm\n",
        "!pip install timm"
      ],
      "metadata": {
        "colab": {
          "base_uri": "https://localhost:8080/"
        },
        "collapsed": true,
        "id": "w2HX63gAhclY",
        "outputId": "1f2feda5-2fd2-4ffd-a988-2104cdeca950"
      },
      "execution_count": null,
      "outputs": [
        {
          "output_type": "stream",
          "name": "stdout",
          "text": [
            "Requirement already satisfied: torch in /usr/local/lib/python3.11/dist-packages (2.2.2)\n",
            "Requirement already satisfied: torchvision in /usr/local/lib/python3.11/dist-packages (0.17.2)\n",
            "Requirement already satisfied: torchaudio in /usr/local/lib/python3.11/dist-packages (2.6.0+cu124)\n",
            "Requirement already satisfied: filelock in /usr/local/lib/python3.11/dist-packages (from torch) (3.18.0)\n",
            "Requirement already satisfied: typing-extensions>=4.8.0 in /usr/local/lib/python3.11/dist-packages (from torch) (4.13.2)\n",
            "Requirement already satisfied: sympy in /usr/local/lib/python3.11/dist-packages (from torch) (1.13.1)\n",
            "Requirement already satisfied: networkx in /usr/local/lib/python3.11/dist-packages (from torch) (3.4.2)\n",
            "Requirement already satisfied: jinja2 in /usr/local/lib/python3.11/dist-packages (from torch) (3.1.6)\n",
            "Requirement already satisfied: fsspec in /usr/local/lib/python3.11/dist-packages (from torch) (2025.3.2)\n",
            "Requirement already satisfied: nvidia-cuda-nvrtc-cu12==12.1.105 in /usr/local/lib/python3.11/dist-packages (from torch) (12.1.105)\n",
            "Requirement already satisfied: nvidia-cuda-runtime-cu12==12.1.105 in /usr/local/lib/python3.11/dist-packages (from torch) (12.1.105)\n",
            "Requirement already satisfied: nvidia-cuda-cupti-cu12==12.1.105 in /usr/local/lib/python3.11/dist-packages (from torch) (12.1.105)\n",
            "Requirement already satisfied: nvidia-cudnn-cu12==8.9.2.26 in /usr/local/lib/python3.11/dist-packages (from torch) (8.9.2.26)\n",
            "Requirement already satisfied: nvidia-cublas-cu12==12.1.3.1 in /usr/local/lib/python3.11/dist-packages (from torch) (12.1.3.1)\n",
            "Requirement already satisfied: nvidia-cufft-cu12==11.0.2.54 in /usr/local/lib/python3.11/dist-packages (from torch) (11.0.2.54)\n",
            "Requirement already satisfied: nvidia-curand-cu12==10.3.2.106 in /usr/local/lib/python3.11/dist-packages (from torch) (10.3.2.106)\n",
            "Requirement already satisfied: nvidia-cusolver-cu12==11.4.5.107 in /usr/local/lib/python3.11/dist-packages (from torch) (11.4.5.107)\n",
            "Requirement already satisfied: nvidia-cusparse-cu12==12.1.0.106 in /usr/local/lib/python3.11/dist-packages (from torch) (12.1.0.106)\n",
            "Requirement already satisfied: nvidia-nccl-cu12==2.19.3 in /usr/local/lib/python3.11/dist-packages (from torch) (2.19.3)\n",
            "Requirement already satisfied: nvidia-nvtx-cu12==12.1.105 in /usr/local/lib/python3.11/dist-packages (from torch) (12.1.105)\n",
            "Requirement already satisfied: triton==2.2.0 in /usr/local/lib/python3.11/dist-packages (from torch) (2.2.0)\n",
            "Requirement already satisfied: nvidia-nvjitlink-cu12 in /usr/local/lib/python3.11/dist-packages (from nvidia-cusolver-cu12==11.4.5.107->torch) (12.4.127)\n",
            "Requirement already satisfied: numpy in /usr/local/lib/python3.11/dist-packages (from torchvision) (1.26.4)\n",
            "Requirement already satisfied: pillow!=8.3.*,>=5.3.0 in /usr/local/lib/python3.11/dist-packages (from torchvision) (10.2.0)\n",
            "INFO: pip is looking at multiple versions of torchaudio to determine which version is compatible with other requirements. This could take a while.\n",
            "Collecting torchaudio\n",
            "  Downloading torchaudio-2.7.0-cp311-cp311-manylinux_2_28_x86_64.whl.metadata (6.6 kB)\n",
            "  Downloading torchaudio-2.6.0-cp311-cp311-manylinux1_x86_64.whl.metadata (6.6 kB)\n",
            "  Downloading torchaudio-2.5.1-cp311-cp311-manylinux1_x86_64.whl.metadata (6.4 kB)\n",
            "  Downloading torchaudio-2.5.0-cp311-cp311-manylinux1_x86_64.whl.metadata (6.4 kB)\n",
            "  Downloading torchaudio-2.4.1-cp311-cp311-manylinux1_x86_64.whl.metadata (6.4 kB)\n",
            "  Downloading torchaudio-2.4.0-cp311-cp311-manylinux1_x86_64.whl.metadata (6.4 kB)\n",
            "  Downloading torchaudio-2.3.1-cp311-cp311-manylinux1_x86_64.whl.metadata (6.4 kB)\n",
            "INFO: pip is still looking at multiple versions of torchaudio to determine which version is compatible with other requirements. This could take a while.\n",
            "  Downloading torchaudio-2.3.0-cp311-cp311-manylinux1_x86_64.whl.metadata (6.4 kB)\n",
            "  Downloading torchaudio-2.2.2-cp311-cp311-manylinux1_x86_64.whl.metadata (6.4 kB)\n",
            "Requirement already satisfied: MarkupSafe>=2.0 in /usr/local/lib/python3.11/dist-packages (from jinja2->torch) (3.0.2)\n",
            "Requirement already satisfied: mpmath<1.4,>=1.1.0 in /usr/local/lib/python3.11/dist-packages (from sympy->torch) (1.3.0)\n",
            "Downloading torchaudio-2.2.2-cp311-cp311-manylinux1_x86_64.whl (3.3 MB)\n",
            "\u001b[2K   \u001b[90m━━━━━━━━━━━━━━━━━━━━━━━━━━━━━━━━━━━━━━━━\u001b[0m \u001b[32m3.3/3.3 MB\u001b[0m \u001b[31m27.2 MB/s\u001b[0m eta \u001b[36m0:00:00\u001b[0m\n",
            "\u001b[?25hInstalling collected packages: torchaudio\n",
            "  Attempting uninstall: torchaudio\n",
            "    Found existing installation: torchaudio 2.6.0+cu124\n",
            "    Uninstalling torchaudio-2.6.0+cu124:\n",
            "      Successfully uninstalled torchaudio-2.6.0+cu124\n",
            "Successfully installed torchaudio-2.2.2\n",
            "Requirement already satisfied: opencv-python in /usr/local/lib/python3.11/dist-packages (4.11.0.86)\n",
            "Requirement already satisfied: numpy>=1.21.2 in /usr/local/lib/python3.11/dist-packages (from opencv-python) (1.26.4)\n",
            "Requirement already satisfied: facenet-pytorch in /usr/local/lib/python3.11/dist-packages (2.6.0)\n",
            "Requirement already satisfied: numpy<2.0.0,>=1.24.0 in /usr/local/lib/python3.11/dist-packages (from facenet-pytorch) (1.26.4)\n",
            "Requirement already satisfied: Pillow<10.3.0,>=10.2.0 in /usr/local/lib/python3.11/dist-packages (from facenet-pytorch) (10.2.0)\n",
            "Requirement already satisfied: requests<3.0.0,>=2.0.0 in /usr/local/lib/python3.11/dist-packages (from facenet-pytorch) (2.32.3)\n",
            "Requirement already satisfied: torch<2.3.0,>=2.2.0 in /usr/local/lib/python3.11/dist-packages (from facenet-pytorch) (2.2.2)\n",
            "Requirement already satisfied: torchvision<0.18.0,>=0.17.0 in /usr/local/lib/python3.11/dist-packages (from facenet-pytorch) (0.17.2)\n",
            "Requirement already satisfied: tqdm<5.0.0,>=4.0.0 in /usr/local/lib/python3.11/dist-packages (from facenet-pytorch) (4.67.1)\n",
            "Requirement already satisfied: charset-normalizer<4,>=2 in /usr/local/lib/python3.11/dist-packages (from requests<3.0.0,>=2.0.0->facenet-pytorch) (3.4.2)\n",
            "Requirement already satisfied: idna<4,>=2.5 in /usr/local/lib/python3.11/dist-packages (from requests<3.0.0,>=2.0.0->facenet-pytorch) (3.10)\n",
            "Requirement already satisfied: urllib3<3,>=1.21.1 in /usr/local/lib/python3.11/dist-packages (from requests<3.0.0,>=2.0.0->facenet-pytorch) (2.4.0)\n",
            "Requirement already satisfied: certifi>=2017.4.17 in /usr/local/lib/python3.11/dist-packages (from requests<3.0.0,>=2.0.0->facenet-pytorch) (2025.4.26)\n",
            "Requirement already satisfied: filelock in /usr/local/lib/python3.11/dist-packages (from torch<2.3.0,>=2.2.0->facenet-pytorch) (3.18.0)\n",
            "Requirement already satisfied: typing-extensions>=4.8.0 in /usr/local/lib/python3.11/dist-packages (from torch<2.3.0,>=2.2.0->facenet-pytorch) (4.13.2)\n",
            "Requirement already satisfied: sympy in /usr/local/lib/python3.11/dist-packages (from torch<2.3.0,>=2.2.0->facenet-pytorch) (1.13.1)\n",
            "Requirement already satisfied: networkx in /usr/local/lib/python3.11/dist-packages (from torch<2.3.0,>=2.2.0->facenet-pytorch) (3.4.2)\n",
            "Requirement already satisfied: jinja2 in /usr/local/lib/python3.11/dist-packages (from torch<2.3.0,>=2.2.0->facenet-pytorch) (3.1.6)\n",
            "Requirement already satisfied: fsspec in /usr/local/lib/python3.11/dist-packages (from torch<2.3.0,>=2.2.0->facenet-pytorch) (2025.3.2)\n",
            "Requirement already satisfied: nvidia-cuda-nvrtc-cu12==12.1.105 in /usr/local/lib/python3.11/dist-packages (from torch<2.3.0,>=2.2.0->facenet-pytorch) (12.1.105)\n",
            "Requirement already satisfied: nvidia-cuda-runtime-cu12==12.1.105 in /usr/local/lib/python3.11/dist-packages (from torch<2.3.0,>=2.2.0->facenet-pytorch) (12.1.105)\n",
            "Requirement already satisfied: nvidia-cuda-cupti-cu12==12.1.105 in /usr/local/lib/python3.11/dist-packages (from torch<2.3.0,>=2.2.0->facenet-pytorch) (12.1.105)\n",
            "Requirement already satisfied: nvidia-cudnn-cu12==8.9.2.26 in /usr/local/lib/python3.11/dist-packages (from torch<2.3.0,>=2.2.0->facenet-pytorch) (8.9.2.26)\n",
            "Requirement already satisfied: nvidia-cublas-cu12==12.1.3.1 in /usr/local/lib/python3.11/dist-packages (from torch<2.3.0,>=2.2.0->facenet-pytorch) (12.1.3.1)\n",
            "Requirement already satisfied: nvidia-cufft-cu12==11.0.2.54 in /usr/local/lib/python3.11/dist-packages (from torch<2.3.0,>=2.2.0->facenet-pytorch) (11.0.2.54)\n",
            "Requirement already satisfied: nvidia-curand-cu12==10.3.2.106 in /usr/local/lib/python3.11/dist-packages (from torch<2.3.0,>=2.2.0->facenet-pytorch) (10.3.2.106)\n",
            "Requirement already satisfied: nvidia-cusolver-cu12==11.4.5.107 in /usr/local/lib/python3.11/dist-packages (from torch<2.3.0,>=2.2.0->facenet-pytorch) (11.4.5.107)\n",
            "Requirement already satisfied: nvidia-cusparse-cu12==12.1.0.106 in /usr/local/lib/python3.11/dist-packages (from torch<2.3.0,>=2.2.0->facenet-pytorch) (12.1.0.106)\n",
            "Requirement already satisfied: nvidia-nccl-cu12==2.19.3 in /usr/local/lib/python3.11/dist-packages (from torch<2.3.0,>=2.2.0->facenet-pytorch) (2.19.3)\n",
            "Requirement already satisfied: nvidia-nvtx-cu12==12.1.105 in /usr/local/lib/python3.11/dist-packages (from torch<2.3.0,>=2.2.0->facenet-pytorch) (12.1.105)\n",
            "Requirement already satisfied: triton==2.2.0 in /usr/local/lib/python3.11/dist-packages (from torch<2.3.0,>=2.2.0->facenet-pytorch) (2.2.0)\n",
            "Requirement already satisfied: nvidia-nvjitlink-cu12 in /usr/local/lib/python3.11/dist-packages (from nvidia-cusolver-cu12==11.4.5.107->torch<2.3.0,>=2.2.0->facenet-pytorch) (12.4.127)\n",
            "Requirement already satisfied: MarkupSafe>=2.0 in /usr/local/lib/python3.11/dist-packages (from jinja2->torch<2.3.0,>=2.2.0->facenet-pytorch) (3.0.2)\n",
            "Requirement already satisfied: mpmath<1.4,>=1.1.0 in /usr/local/lib/python3.11/dist-packages (from sympy->torch<2.3.0,>=2.2.0->facenet-pytorch) (1.3.0)\n",
            "Requirement already satisfied: albumentations in /usr/local/lib/python3.11/dist-packages (2.0.7)\n",
            "Requirement already satisfied: numpy>=1.24.4 in /usr/local/lib/python3.11/dist-packages (from albumentations) (1.26.4)\n",
            "Requirement already satisfied: scipy>=1.10.0 in /usr/local/lib/python3.11/dist-packages (from albumentations) (1.15.3)\n",
            "Requirement already satisfied: PyYAML in /usr/local/lib/python3.11/dist-packages (from albumentations) (6.0.2)\n",
            "Requirement already satisfied: pydantic>=2.9.2 in /usr/local/lib/python3.11/dist-packages (from albumentations) (2.11.4)\n",
            "Requirement already satisfied: albucore==0.0.24 in /usr/local/lib/python3.11/dist-packages (from albumentations) (0.0.24)\n",
            "Requirement already satisfied: opencv-python-headless>=4.9.0.80 in /usr/local/lib/python3.11/dist-packages (from albumentations) (4.11.0.86)\n",
            "Requirement already satisfied: stringzilla>=3.10.4 in /usr/local/lib/python3.11/dist-packages (from albucore==0.0.24->albumentations) (3.12.5)\n",
            "Requirement already satisfied: simsimd>=5.9.2 in /usr/local/lib/python3.11/dist-packages (from albucore==0.0.24->albumentations) (6.2.1)\n",
            "Requirement already satisfied: annotated-types>=0.6.0 in /usr/local/lib/python3.11/dist-packages (from pydantic>=2.9.2->albumentations) (0.7.0)\n",
            "Requirement already satisfied: pydantic-core==2.33.2 in /usr/local/lib/python3.11/dist-packages (from pydantic>=2.9.2->albumentations) (2.33.2)\n",
            "Requirement already satisfied: typing-extensions>=4.12.2 in /usr/local/lib/python3.11/dist-packages (from pydantic>=2.9.2->albumentations) (4.13.2)\n",
            "Requirement already satisfied: typing-inspection>=0.4.0 in /usr/local/lib/python3.11/dist-packages (from pydantic>=2.9.2->albumentations) (0.4.1)\n",
            "Requirement already satisfied: scikit-learn in /usr/local/lib/python3.11/dist-packages (1.6.1)\n",
            "Requirement already satisfied: numpy>=1.19.5 in /usr/local/lib/python3.11/dist-packages (from scikit-learn) (1.26.4)\n",
            "Requirement already satisfied: scipy>=1.6.0 in /usr/local/lib/python3.11/dist-packages (from scikit-learn) (1.15.3)\n",
            "Requirement already satisfied: joblib>=1.2.0 in /usr/local/lib/python3.11/dist-packages (from scikit-learn) (1.5.0)\n",
            "Requirement already satisfied: threadpoolctl>=3.1.0 in /usr/local/lib/python3.11/dist-packages (from scikit-learn) (3.6.0)\n",
            "Requirement already satisfied: matplotlib in /usr/local/lib/python3.11/dist-packages (3.10.0)\n",
            "Requirement already satisfied: seaborn in /usr/local/lib/python3.11/dist-packages (0.13.2)\n",
            "Requirement already satisfied: contourpy>=1.0.1 in /usr/local/lib/python3.11/dist-packages (from matplotlib) (1.3.2)\n",
            "Requirement already satisfied: cycler>=0.10 in /usr/local/lib/python3.11/dist-packages (from matplotlib) (0.12.1)\n",
            "Requirement already satisfied: fonttools>=4.22.0 in /usr/local/lib/python3.11/dist-packages (from matplotlib) (4.58.0)\n",
            "Requirement already satisfied: kiwisolver>=1.3.1 in /usr/local/lib/python3.11/dist-packages (from matplotlib) (1.4.8)\n",
            "Requirement already satisfied: numpy>=1.23 in /usr/local/lib/python3.11/dist-packages (from matplotlib) (1.26.4)\n",
            "Requirement already satisfied: packaging>=20.0 in /usr/local/lib/python3.11/dist-packages (from matplotlib) (24.2)\n",
            "Requirement already satisfied: pillow>=8 in /usr/local/lib/python3.11/dist-packages (from matplotlib) (10.2.0)\n",
            "Requirement already satisfied: pyparsing>=2.3.1 in /usr/local/lib/python3.11/dist-packages (from matplotlib) (3.2.3)\n",
            "Requirement already satisfied: python-dateutil>=2.7 in /usr/local/lib/python3.11/dist-packages (from matplotlib) (2.9.0.post0)\n",
            "Requirement already satisfied: pandas>=1.2 in /usr/local/lib/python3.11/dist-packages (from seaborn) (2.2.2)\n",
            "Requirement already satisfied: pytz>=2020.1 in /usr/local/lib/python3.11/dist-packages (from pandas>=1.2->seaborn) (2025.2)\n",
            "Requirement already satisfied: tzdata>=2022.7 in /usr/local/lib/python3.11/dist-packages (from pandas>=1.2->seaborn) (2025.2)\n",
            "Requirement already satisfied: six>=1.5 in /usr/local/lib/python3.11/dist-packages (from python-dateutil>=2.7->matplotlib) (1.17.0)\n",
            "Requirement already satisfied: tqdm in /usr/local/lib/python3.11/dist-packages (4.67.1)\n",
            "Requirement already satisfied: timm in /usr/local/lib/python3.11/dist-packages (1.0.15)\n",
            "Requirement already satisfied: torch in /usr/local/lib/python3.11/dist-packages (from timm) (2.2.2)\n",
            "Requirement already satisfied: torchvision in /usr/local/lib/python3.11/dist-packages (from timm) (0.17.2)\n",
            "Requirement already satisfied: pyyaml in /usr/local/lib/python3.11/dist-packages (from timm) (6.0.2)\n",
            "Requirement already satisfied: huggingface_hub in /usr/local/lib/python3.11/dist-packages (from timm) (0.31.4)\n",
            "Requirement already satisfied: safetensors in /usr/local/lib/python3.11/dist-packages (from timm) (0.5.3)\n",
            "Requirement already satisfied: filelock in /usr/local/lib/python3.11/dist-packages (from huggingface_hub->timm) (3.18.0)\n",
            "Requirement already satisfied: fsspec>=2023.5.0 in /usr/local/lib/python3.11/dist-packages (from huggingface_hub->timm) (2025.3.2)\n",
            "Requirement already satisfied: packaging>=20.9 in /usr/local/lib/python3.11/dist-packages (from huggingface_hub->timm) (24.2)\n",
            "Requirement already satisfied: requests in /usr/local/lib/python3.11/dist-packages (from huggingface_hub->timm) (2.32.3)\n",
            "Requirement already satisfied: tqdm>=4.42.1 in /usr/local/lib/python3.11/dist-packages (from huggingface_hub->timm) (4.67.1)\n",
            "Requirement already satisfied: typing-extensions>=3.7.4.3 in /usr/local/lib/python3.11/dist-packages (from huggingface_hub->timm) (4.13.2)\n",
            "Requirement already satisfied: sympy in /usr/local/lib/python3.11/dist-packages (from torch->timm) (1.13.1)\n",
            "Requirement already satisfied: networkx in /usr/local/lib/python3.11/dist-packages (from torch->timm) (3.4.2)\n",
            "Requirement already satisfied: jinja2 in /usr/local/lib/python3.11/dist-packages (from torch->timm) (3.1.6)\n",
            "Requirement already satisfied: nvidia-cuda-nvrtc-cu12==12.1.105 in /usr/local/lib/python3.11/dist-packages (from torch->timm) (12.1.105)\n",
            "Requirement already satisfied: nvidia-cuda-runtime-cu12==12.1.105 in /usr/local/lib/python3.11/dist-packages (from torch->timm) (12.1.105)\n",
            "Requirement already satisfied: nvidia-cuda-cupti-cu12==12.1.105 in /usr/local/lib/python3.11/dist-packages (from torch->timm) (12.1.105)\n",
            "Requirement already satisfied: nvidia-cudnn-cu12==8.9.2.26 in /usr/local/lib/python3.11/dist-packages (from torch->timm) (8.9.2.26)\n",
            "Requirement already satisfied: nvidia-cublas-cu12==12.1.3.1 in /usr/local/lib/python3.11/dist-packages (from torch->timm) (12.1.3.1)\n",
            "Requirement already satisfied: nvidia-cufft-cu12==11.0.2.54 in /usr/local/lib/python3.11/dist-packages (from torch->timm) (11.0.2.54)\n",
            "Requirement already satisfied: nvidia-curand-cu12==10.3.2.106 in /usr/local/lib/python3.11/dist-packages (from torch->timm) (10.3.2.106)\n",
            "Requirement already satisfied: nvidia-cusolver-cu12==11.4.5.107 in /usr/local/lib/python3.11/dist-packages (from torch->timm) (11.4.5.107)\n",
            "Requirement already satisfied: nvidia-cusparse-cu12==12.1.0.106 in /usr/local/lib/python3.11/dist-packages (from torch->timm) (12.1.0.106)\n",
            "Requirement already satisfied: nvidia-nccl-cu12==2.19.3 in /usr/local/lib/python3.11/dist-packages (from torch->timm) (2.19.3)\n",
            "Requirement already satisfied: nvidia-nvtx-cu12==12.1.105 in /usr/local/lib/python3.11/dist-packages (from torch->timm) (12.1.105)\n",
            "Requirement already satisfied: triton==2.2.0 in /usr/local/lib/python3.11/dist-packages (from torch->timm) (2.2.0)\n",
            "Requirement already satisfied: nvidia-nvjitlink-cu12 in /usr/local/lib/python3.11/dist-packages (from nvidia-cusolver-cu12==11.4.5.107->torch->timm) (12.4.127)\n",
            "Requirement already satisfied: numpy in /usr/local/lib/python3.11/dist-packages (from torchvision->timm) (1.26.4)\n",
            "Requirement already satisfied: pillow!=8.3.*,>=5.3.0 in /usr/local/lib/python3.11/dist-packages (from torchvision->timm) (10.2.0)\n",
            "Requirement already satisfied: MarkupSafe>=2.0 in /usr/local/lib/python3.11/dist-packages (from jinja2->torch->timm) (3.0.2)\n",
            "Requirement already satisfied: charset-normalizer<4,>=2 in /usr/local/lib/python3.11/dist-packages (from requests->huggingface_hub->timm) (3.4.2)\n",
            "Requirement already satisfied: idna<4,>=2.5 in /usr/local/lib/python3.11/dist-packages (from requests->huggingface_hub->timm) (3.10)\n",
            "Requirement already satisfied: urllib3<3,>=1.21.1 in /usr/local/lib/python3.11/dist-packages (from requests->huggingface_hub->timm) (2.4.0)\n",
            "Requirement already satisfied: certifi>=2017.4.17 in /usr/local/lib/python3.11/dist-packages (from requests->huggingface_hub->timm) (2025.4.26)\n",
            "Requirement already satisfied: mpmath<1.4,>=1.1.0 in /usr/local/lib/python3.11/dist-packages (from sympy->torch->timm) (1.3.0)\n"
          ]
        }
      ]
    },
    {
      "cell_type": "markdown",
      "source": [
        "### Mount Google Drive"
      ],
      "metadata": {
        "id": "CZwKx0xVi1i4"
      }
    },
    {
      "cell_type": "code",
      "source": [
        "from google.colab import drive\n",
        "drive.mount('/content/drive')"
      ],
      "metadata": {
        "colab": {
          "base_uri": "https://localhost:8080/"
        },
        "id": "PyEyCBt9i28n",
        "outputId": "7098a950-51f8-45c8-88f1-792c4a6890e0"
      },
      "execution_count": null,
      "outputs": [
        {
          "output_type": "stream",
          "name": "stdout",
          "text": [
            "Mounted at /content/drive\n"
          ]
        }
      ]
    },
    {
      "cell_type": "markdown",
      "source": [
        "## IMPORTS AND SETUP"
      ],
      "metadata": {
        "id": "SLBrKU3GjF5P"
      }
    },
    {
      "cell_type": "code",
      "source": [
        "import torch\n",
        "import torch.nn as nn\n",
        "import torch.optim as optim\n",
        "from torch.utils.data import Dataset, DataLoader\n",
        "import torchvision.transforms as transforms\n",
        "from torchvision import models\n",
        "import timm\n",
        "\n",
        "import cv2\n",
        "import numpy as np\n",
        "import pandas as pd\n",
        "import matplotlib.pyplot as plt\n",
        "import seaborn as sns\n",
        "from sklearn.metrics import accuracy_score, classification_report, confusion_matrix\n",
        "from sklearn.model_selection import train_test_split\n",
        "import albumentations as A\n",
        "from albumentations.pytorch import ToTensorV2\n",
        "\n",
        "import os\n",
        "import json\n",
        "import random\n",
        "from tqdm import tqdm\n",
        "import pickle\n",
        "from PIL import Image\n",
        "import warnings\n",
        "warnings.filterwarnings('ignore')\n",
        "\n",
        "import kagglehub\n",
        "from kagglehub import KaggleDatasetAdapter"
      ],
      "metadata": {
        "collapsed": true,
        "id": "FhDWv13HjH0_",
        "colab": {
          "base_uri": "https://localhost:8080/"
        },
        "outputId": "1a2c44d7-dcab-4113-c7c0-336aa73d75c6"
      },
      "execution_count": null,
      "outputs": [
        {
          "output_type": "stream",
          "name": "stderr",
          "text": [
            "/usr/local/lib/python3.11/dist-packages/albumentations/__init__.py:28: UserWarning: A new version of Albumentations is available: '2.0.8' (you have '2.0.7'). Upgrade using: pip install -U albumentations. To disable automatic update checks, set the environment variable NO_ALBUMENTATIONS_UPDATE to 1.\n",
            "  check_for_updates()\n"
          ]
        }
      ]
    },
    {
      "cell_type": "markdown",
      "source": [
        "### Set random seeds for reproducibility"
      ],
      "metadata": {
        "id": "1DxShXtBjcA_"
      }
    },
    {
      "cell_type": "code",
      "source": [
        "torch.manual_seed(42)\n",
        "np.random.seed(42)\n",
        "random.seed(42)"
      ],
      "metadata": {
        "id": "di7hFWPdjd1X"
      },
      "execution_count": null,
      "outputs": []
    },
    {
      "cell_type": "markdown",
      "source": [
        "### Check GPU availability"
      ],
      "metadata": {
        "id": "Qbq3HvKojhvP"
      }
    },
    {
      "cell_type": "code",
      "source": [
        "device = torch.device('cuda' if torch.cuda.is_available() else 'cpu')\n",
        "print(f\"Using device: {device}\")"
      ],
      "metadata": {
        "colab": {
          "base_uri": "https://localhost:8080/"
        },
        "id": "ezWhwKgljiWg",
        "outputId": "217c216c-fe16-4d0d-bbd2-961371fe52d8"
      },
      "execution_count": null,
      "outputs": [
        {
          "output_type": "stream",
          "name": "stdout",
          "text": [
            "Using device: cuda\n"
          ]
        }
      ]
    },
    {
      "cell_type": "markdown",
      "source": [
        "## DIRECTORY SETUP"
      ],
      "metadata": {
        "id": "p8PIv1IIj49_"
      }
    },
    {
      "cell_type": "markdown",
      "source": [
        "### Create project directories"
      ],
      "metadata": {
        "id": "yb3JSM6Oj9QJ"
      }
    },
    {
      "cell_type": "code",
      "source": [
        "base_dir = '/content/drive/MyDrive/deepfake_detection'\n",
        "os.makedirs(base_dir, exist_ok=True)\n",
        "os.makedirs(f'{base_dir}/data', exist_ok=True)\n",
        "os.makedirs(f'{base_dir}/models', exist_ok=True)\n",
        "os.makedirs(f'{base_dir}/results', exist_ok=True)\n",
        "\n",
        "print(\"Project directories created successfully!\")"
      ],
      "metadata": {
        "colab": {
          "base_uri": "https://localhost:8080/"
        },
        "id": "TJDdoiGRj6ov",
        "outputId": "bd8c2c00-881e-4774-b062-fa4369ddc2b7"
      },
      "execution_count": null,
      "outputs": [
        {
          "output_type": "stream",
          "name": "stdout",
          "text": [
            "Project directories created successfully!\n"
          ]
        }
      ]
    },
    {
      "cell_type": "markdown",
      "source": [
        "## DATASET PREPARATION FUNCTIONS"
      ],
      "metadata": {
        "id": "dt_RCXOUkE_f"
      }
    },
    {
      "cell_type": "code",
      "source": [
        "def extract_frames_from_video(video_path, max_frames=10, face_detector=None):\n",
        "    frames = []\n",
        "    cap = cv2.VideoCapture(video_path)\n",
        "    if not cap.isOpened():\n",
        "        return frames\n",
        "    frame_count = int(cap.get(cv2.CAP_PROP_FRAME_COUNT))\n",
        "    step = max(1, frame_count // max_frames)\n",
        "    frame_idx = 0\n",
        "    while cap.isOpened():\n",
        "        ret, frame = cap.read()\n",
        "        if not ret:\n",
        "            break\n",
        "        if frame_idx % step == 0:\n",
        "            frame_rgb = cv2.cvtColor(frame, cv2.COLOR_BGR2RGB)\n",
        "            gray = cv2.cvtColor(frame, cv2.COLOR_BGR2GRAY)\n",
        "            face_cascade = cv2.CascadeClassifier(cv2.data.haarcascades + 'haarcascade_frontalface_default.xml')\n",
        "            faces = face_cascade.detectMultiScale(gray, 1.1, 4)\n",
        "            if len(faces) > 0:\n",
        "                largest_face = max(faces, key=lambda x: x[2] * x[3])\n",
        "                x, y, w, h = largest_face\n",
        "                padding = 20\n",
        "                x = max(0, x - padding)\n",
        "                y = max(0, y - padding)\n",
        "                w = min(frame.shape[1] - x, w + 2*padding)\n",
        "                h = min(frame.shape[0] - y, h + 2*padding)\n",
        "                face_crop = frame_rgb[y:y+h, x:x+w]\n",
        "                if face_crop.size > 0:\n",
        "                    frames.append(face_crop)\n",
        "            del frame, frame_rgb, gray  # Explicitly free memory\n",
        "        frame_idx += 1\n",
        "        if len(frames) >= max_frames:\n",
        "            break\n",
        "    cap.release()\n",
        "    return frames"
      ],
      "metadata": {
        "id": "CSfRRlx_kGU3"
      },
      "execution_count": null,
      "outputs": []
    },
    {
      "cell_type": "markdown",
      "source": [
        "## KAGGLE DATASET LOADING AND PROCESSING"
      ],
      "metadata": {
        "id": "Bu6JtasorhWo"
      }
    },
    {
      "cell_type": "code",
      "source": [
        "def load_kaggle_ff_dataset():\n",
        "    print(\"Loading FaceForensics++ dataset from Kaggle...\")\n",
        "\n",
        "    path = kagglehub.dataset_download(\"xdxd003/ff-c23\")\n",
        "\n",
        "    dataset_path = os.path.join(path, \"FaceForensics++_C23\")\n",
        "    print(f\"Contents of {dataset_path}: {os.listdir(dataset_path)}\")\n",
        "\n",
        "    return dataset_path"
      ],
      "metadata": {
        "id": "UAiyhzETrjFo"
      },
      "execution_count": 1,
      "outputs": []
    },
    {
      "cell_type": "code",
      "source": [
        "def create_dataset_from_kaggle_ff(dataset_path, max_videos_per_class=200, max_frames_per_video=30):\n",
        "    dataset = []\n",
        "    labels = []\n",
        "\n",
        "    # Define folder mappings\n",
        "    real_folders = ['original']\n",
        "    fake_folders = ['DeepFakeDetection', 'Deepfakes', 'Face2Face', 'FaceShifter', 'FaceSwap', 'NeuralTextures']\n",
        "\n",
        "    print(\"Processing real videos...\")\n",
        "    # Process real videos\n",
        "    for folder in real_folders:\n",
        "        folder_path = os.path.join(dataset_path, folder)\n",
        "        if os.path.exists(folder_path):\n",
        "            video_files = [f for f in os.listdir(folder_path) if f.endswith(('.mp4', '.avi'))][:max_videos_per_class]\n",
        "\n",
        "            print(f\"Found {len(video_files)} videos in {folder}\")\n",
        "\n",
        "            for video_file in tqdm(video_files, desc=f\"Processing {folder}\"):\n",
        "                video_path = os.path.join(folder_path, video_file)\n",
        "                frames = extract_frames_from_video(video_path, max_frames_per_video)\n",
        "\n",
        "                for frame in frames:\n",
        "                    dataset.append(frame)\n",
        "                    labels.append(0)  # Real = 0\n",
        "        else:\n",
        "            print(f\"Warning: Folder {folder_path} not found\")\n",
        "\n",
        "    print(f\"Processed real videos. Total real frames: {labels.count(0)}\")\n",
        "\n",
        "    print(\"Processing fake videos...\")\n",
        "    # Process fake videos\n",
        "    for folder in fake_folders:\n",
        "        folder_path = os.path.join(dataset_path, folder)\n",
        "        if os.path.exists(folder_path):\n",
        "            video_files = [f for f in os.listdir(folder_path) if f.endswith(('.mp4', '.avi'))][:max_videos_per_class]\n",
        "\n",
        "            print(f\"Found {len(video_files)} videos in {folder}\")\n",
        "\n",
        "            for video_file in tqdm(video_files, desc=f\"Processing {folder}\"):\n",
        "                video_path = os.path.join(folder_path, video_file)\n",
        "                frames = extract_frames_from_video(video_path, max_frames_per_video)\n",
        "\n",
        "                for frame in frames:\n",
        "                    dataset.append(frame)\n",
        "                    labels.append(1)  # Fake = 1\n",
        "        else:\n",
        "            print(f\"Warning: Folder {folder_path} not found\")\n",
        "\n",
        "    print(f\"Processed fake videos. Total fake frames: {labels.count(1)}\")\n",
        "    print(f\"Total dataset size: {len(dataset)} frames\")\n",
        "\n",
        "    return dataset, labels\n",
        "\n",
        "def explore_kaggle_dataset(dataset_path):\n",
        "    \"\"\"Explore the structure of the Kaggle FaceForensics++ dataset\"\"\"\n",
        "    print(\"Dataset Structure:\")\n",
        "    print(\"=\"*50)\n",
        "\n",
        "    folders = ['DeepFakeDetection', 'Deepfakes', 'Face2Face', 'FaceShifter',\n",
        "               'FaceSwap', 'NeuralTextures', 'original', 'csv']\n",
        "\n",
        "    for folder in folders:\n",
        "        folder_path = os.path.join(dataset_path, folder)\n",
        "        if os.path.exists(folder_path):\n",
        "            if folder == 'csv':\n",
        "                files = [f for f in os.listdir(folder_path) if f.endswith('.csv')]\n",
        "                print(f\"{folder}/: {len(files)} CSV files\")\n",
        "            else:\n",
        "                video_files = [f for f in os.listdir(folder_path) if f.endswith(('.mp4', '.avi'))]\n",
        "                print(f\"{folder}/: {len(video_files)} videos\")\n",
        "        else:\n",
        "            print(f\"{folder_path}/: NOT FOUND\")\n",
        "\n",
        "    # Load and display CSV metadata if available\n",
        "    csv_path = os.path.join(dataset_path, 'csv')\n",
        "    if os.path.exists(csv_path):\n",
        "        csv_files = [f for f in os.listdir(csv_path) if f.endswith('.csv')]\n",
        "        if csv_files:\n",
        "            print(f\"\\nFound CSV files: {csv_files}\")\n",
        "            # Load first CSV to see structure\n",
        "            first_csv = os.path.join(csv_path, csv_files[0])\n",
        "            try:\n",
        "                df = pd.read_csv(first_csv)\n",
        "                print(f\"\\nSample CSV structure ({csv_files[0]}):\")\n",
        "                print(df.head())\n",
        "                print(f\"CSV shape: {df.shape}\")\n",
        "            except Exception as e:\n",
        "                print(f\"Error reading CSV: {e}\")\n",
        "\n",
        "def create_balanced_dataset(dataset_path, samples_per_class=1000, max_frames_per_video=10):\n",
        "    print(f\"Creating balanced dataset with {samples_per_class} samples per class...\")\n",
        "    frame_paths = []\n",
        "    labels = []\n",
        "    output_dir = os.path.join(base_dir, 'data', 'frames')\n",
        "    os.makedirs(output_dir, exist_ok=True)\n",
        "\n",
        "    # Process real videos\n",
        "    original_path = os.path.join(dataset_path, 'original')\n",
        "    if os.path.exists(original_path):\n",
        "        video_files = [f for f in os.listdir(original_path) if f.endswith(('.mp4', '.avi'))]\n",
        "        for video_file in tqdm(video_files, desc=\"Processing real videos\"):\n",
        "            if len(frame_paths) >= samples_per_class:\n",
        "                break\n",
        "            video_path = os.path.join(original_path, video_file)\n",
        "            frames = extract_frames_from_video(video_path, max_frames_per_video)\n",
        "            for i, frame in enumerate(frames):\n",
        "                if len(frame_paths) >= samples_per_class:\n",
        "                    break\n",
        "                frame_path = os.path.join(output_dir, f'real_{video_file}_{i}.jpg')\n",
        "                cv2.imwrite(frame_path, cv2.cvtColor(frame, cv2.COLOR_RGB2BGR))\n",
        "                frame_paths.append(frame_path)\n",
        "                labels.append(0)\n",
        "\n",
        "    # Process fake videos\n",
        "    fake_folders = ['DeepFakeDetection', 'Deepfakes', 'Face2Face', 'FaceShifter', 'FaceSwap', 'NeuralTextures']\n",
        "    for folder in fake_folders:\n",
        "        if len(frame_paths) >= samples_per_class * 2:\n",
        "            break\n",
        "        folder_path = os.path.join(dataset_path, folder)\n",
        "        if os.path.exists(folder_path):\n",
        "            video_files = [f for f in os.listdir(folder_path) if f.endswith(('.mp4', '.avi'))]\n",
        "            for video_file in tqdm(video_files, desc=f\"Processing {folder}\"):\n",
        "                if len(frame_paths) >= samples_per_class * 2:\n",
        "                    break\n",
        "                video_path = os.path.join(folder_path, video_file)\n",
        "                frames = extract_frames_from_video(video_path, max_frames_per_video)\n",
        "                for i, frame in enumerate(frames):\n",
        "                    if len(frame_paths) >= samples_per_class * 2:\n",
        "                        break\n",
        "                    frame_path = os.path.join(output_dir, f'fake_{folder}_{video_file}_{i}.jpg')\n",
        "                    cv2.imwrite(frame_path, cv2.cvtColor(frame, cv2.COLOR_RGB2BGR))\n",
        "                    frame_paths.append(frame_path)\n",
        "                    labels.append(1)\n",
        "\n",
        "# Shuffle data\n",
        "    combined = list(zip(frame_paths, labels))\n",
        "    random.shuffle(combined)\n",
        "    frame_paths, labels = zip(*combined)\n",
        "    print(f\"Final dataset: {labels.count(0)} real + {labels.count(1)} fake = {len(frame_paths)} total\")\n",
        "    return list(frame_paths), list(labels)\n",
        "\n",
        "    # Combine and shuffle\n",
        "    all_frames = real_frames + fake_frames\n",
        "    all_labels = real_labels + fake_labels\n",
        "\n",
        "    # Check if any data was loaded\n",
        "    if not all_frames:\n",
        "        print(\"Error: No frames were extracted from the dataset. Check dataset path and content.\")\n",
        "        return [], [] # Return empty lists\n",
        "\n",
        "    # Shuffle the data\n",
        "    combined = list(zip(all_frames, all_labels))\n",
        "    random.shuffle(combined)\n",
        "    all_frames, all_labels = zip(*combined)\n",
        "\n",
        "    print(f\"Final dataset: {len(real_frames)} real + {len(fake_frames)} fake = {len(all_frames)} total\")\n",
        "\n",
        "    return list(all_frames), list(all_labels)"
      ],
      "metadata": {
        "id": "bz7D2IA5kPGw"
      },
      "execution_count": null,
      "outputs": []
    },
    {
      "cell_type": "markdown",
      "source": [
        "## CUSTOM DATASET CLASS"
      ],
      "metadata": {
        "id": "jPcNRplgkhrf"
      }
    },
    {
      "cell_type": "code",
      "source": [
        "class DeepfakeDataset(Dataset):\n",
        "    def __init__(self, image_paths, labels, transform=None):\n",
        "        self.image_paths = image_paths\n",
        "        self.labels = labels\n",
        "        self.transform = transform\n",
        "\n",
        "    def __len__(self):\n",
        "        return len(self.image_paths)\n",
        "\n",
        "    def __getitem__(self, idx):\n",
        "        image_path = self.image_paths[idx]\n",
        "        label = self.labels[idx]\n",
        "        image = cv2.imread(image_path)\n",
        "        image = cv2.cvtColor(image, cv2.COLOR_BGR2RGB)\n",
        "        image = cv2.resize(image, (224, 224))\n",
        "\n",
        "        if self.transform:\n",
        "            transformed = self.transform(image=image)\n",
        "            image = transformed['image']\n",
        "\n",
        "        return image, torch.tensor(label, dtype=torch.float32)"
      ],
      "metadata": {
        "id": "jAnG9GOFki8_"
      },
      "execution_count": null,
      "outputs": []
    },
    {
      "cell_type": "markdown",
      "source": [
        "## DATA AUGMENTATION"
      ],
      "metadata": {
        "id": "daefd30OkoSP"
      }
    },
    {
      "cell_type": "markdown",
      "source": [
        "### Training transforms with strong augmentation"
      ],
      "metadata": {
        "id": "V0l5S5b5k1mo"
      }
    },
    {
      "cell_type": "code",
      "source": [
        "train_transform = A.Compose([\n",
        "    A.RandomResizedCrop(size=(224, 224), scale=(0.8, 1.0)),\n",
        "    A.HorizontalFlip(p=0.5),\n",
        "    A.RandomBrightnessContrast(brightness_limit=0.2, contrast_limit=0.2, p=0.5),\n",
        "    A.HueSaturationValue(hue_shift_limit=10, sat_shift_limit=20, val_shift_limit=10, p=0.5),\n",
        "    A.GaussianBlur(blur_limit=(3, 7), p=0.3),\n",
        "    A.GaussNoise(var_limit=(10, 50), p=0.3),\n",
        "    A.Normalize(mean=[0.485, 0.456, 0.406], std=[0.229, 0.224, 0.225]),\n",
        "    ToTensorV2()\n",
        "])"
      ],
      "metadata": {
        "id": "hpuFsQxekrO_"
      },
      "execution_count": null,
      "outputs": []
    },
    {
      "cell_type": "markdown",
      "source": [
        "### Validation transforms (no augmentation)"
      ],
      "metadata": {
        "id": "A-b9gGurlxLS"
      }
    },
    {
      "cell_type": "code",
      "source": [
        "val_transform = A.Compose([\n",
        "    A.Resize(224, 224),\n",
        "    A.Normalize(mean=[0.485, 0.456, 0.406], std=[0.229, 0.224, 0.225]),\n",
        "    ToTensorV2()\n",
        "])"
      ],
      "metadata": {
        "id": "psmAmVJOl0OA"
      },
      "execution_count": null,
      "outputs": []
    },
    {
      "cell_type": "markdown",
      "source": [
        "## MODEL DEFINITION"
      ],
      "metadata": {
        "id": "ZvEfW763l4dA"
      }
    },
    {
      "cell_type": "code",
      "source": [
        "class DeepfakeDetector(nn.Module):\n",
        "    def __init__(self, model_name='efficientnet_b4', num_classes=1, pretrained=True):\n",
        "        super(DeepfakeDetector, self).__init__()\n",
        "\n",
        "        # Load pre-trained EfficientNet\n",
        "        self.backbone = timm.create_model(model_name, pretrained=pretrained)\n",
        "\n",
        "        # Get number of features from the backbone\n",
        "        if hasattr(self.backbone, 'classifier'):\n",
        "            num_features = self.backbone.classifier.in_features\n",
        "            self.backbone.classifier = nn.Identity()  # Remove original classifier\n",
        "        elif hasattr(self.backbone, 'head'):\n",
        "            num_features = self.backbone.head.fc.in_features\n",
        "            self.backbone.head.fc = nn.Identity()  # Remove original classifier\n",
        "        else:\n",
        "            num_features = self.backbone.num_features\n",
        "\n",
        "        # Custom classifier with dropout for regularization\n",
        "        self.classifier = nn.Sequential(\n",
        "            nn.Dropout(0.5),\n",
        "            nn.Linear(num_features, 512),\n",
        "            nn.ReLU(),\n",
        "            nn.Dropout(0.3),\n",
        "            nn.Linear(512, 256),\n",
        "            nn.ReLU(),\n",
        "            nn.Dropout(0.2),\n",
        "            nn.Linear(256, num_classes),\n",
        "            nn.Sigmoid()\n",
        "        )\n",
        "\n",
        "    def forward(self, x):\n",
        "        features = self.backbone(x)\n",
        "        output = self.classifier(features)\n",
        "        return output"
      ],
      "metadata": {
        "id": "oGy8S_dXl6qJ"
      },
      "execution_count": null,
      "outputs": []
    },
    {
      "cell_type": "markdown",
      "source": [
        "## TRAINING FUNCTIONS"
      ],
      "metadata": {
        "id": "bNH6G_0BmCjo"
      }
    },
    {
      "cell_type": "code",
      "source": [
        "def train_epoch(model, dataloader, criterion, optimizer, device):\n",
        "    model.train()\n",
        "    running_loss = 0.0\n",
        "    correct = 0\n",
        "    total = 0\n",
        "\n",
        "    progress_bar = tqdm(dataloader, desc='Training')\n",
        "    for images, labels in progress_bar:\n",
        "        images, labels = images.to(device), labels.to(device)\n",
        "\n",
        "        optimizer.zero_grad()\n",
        "        outputs = model(images).squeeze()\n",
        "        loss = criterion(outputs, labels)\n",
        "        loss.backward()\n",
        "        optimizer.step()\n",
        "\n",
        "        running_loss += loss.item()\n",
        "        predicted = (outputs > 0.5).float()\n",
        "        total += labels.size(0)\n",
        "        correct += (predicted == labels).sum().item()\n",
        "\n",
        "        progress_bar.set_postfix({\n",
        "            'Loss': f'{loss.item():.4f}',\n",
        "            'Acc': f'{100.*correct/total:.2f}%'\n",
        "        })\n",
        "\n",
        "    return running_loss / len(dataloader), correct / total"
      ],
      "metadata": {
        "id": "RKnm0ECsmEM4"
      },
      "execution_count": null,
      "outputs": []
    },
    {
      "cell_type": "code",
      "source": [
        "def validate_epoch(model, dataloader, criterion, device):\n",
        "    model.eval()\n",
        "    running_loss = 0.0\n",
        "    correct = 0\n",
        "    total = 0\n",
        "    all_preds = []\n",
        "    all_labels = []\n",
        "\n",
        "    with torch.no_grad():\n",
        "        progress_bar = tqdm(dataloader, desc='Validation')\n",
        "        for images, labels in progress_bar:\n",
        "            images, labels = images.to(device), labels.to(device)\n",
        "\n",
        "            outputs = model(images).squeeze()\n",
        "            loss = criterion(outputs, labels)\n",
        "\n",
        "            running_loss += loss.item()\n",
        "            predicted = (outputs > 0.5).float()\n",
        "            total += labels.size(0)\n",
        "            correct += (predicted == labels).sum().item()\n",
        "\n",
        "            all_preds.extend(predicted.cpu().numpy())\n",
        "            all_labels.extend(labels.cpu().numpy())\n",
        "\n",
        "            progress_bar.set_postfix({\n",
        "                'Loss': f'{loss.item():.4f}',\n",
        "                'Acc': f'{100.*correct/total:.2f}%'\n",
        "            })\n",
        "\n",
        "    return running_loss / len(dataloader), correct / total, all_preds, all_labels"
      ],
      "metadata": {
        "id": "LbDYferRmMi4"
      },
      "execution_count": null,
      "outputs": []
    },
    {
      "cell_type": "markdown",
      "source": [
        "## MAIN TRAINING SCRIPT"
      ],
      "metadata": {
        "id": "n2kjKBTHmPYI"
      }
    },
    {
      "cell_type": "code",
      "source": [
        "def main():\n",
        "    # STEP 9.1: LOAD KAGGLE FACEFORENSICS++ DATASET\n",
        "    # =============================================\n",
        "    print(\"Step 1: Loading FaceForensics++ dataset from Kaggle...\")\n",
        "\n",
        "    # Download dataset from Kaggle\n",
        "    dataset_path = load_kaggle_ff_dataset()\n",
        "\n",
        "    # Explore dataset structure\n",
        "    explore_kaggle_dataset(dataset_path)\n",
        "\n",
        "    # BALANCED DATASET\n",
        "    # ========================================\n",
        "    print(\"\\nCreating balanced dataset...\")\n",
        "    # Use the variables 'images' and 'labels' directly\n",
        "    images, labels = create_balanced_dataset(\n",
        "        dataset_path,\n",
        "        samples_per_class=1000,      # 1000 real + 1000 fake = 2000 total\n",
        "        max_frames_per_video=15      # Frames to extract per video\n",
        "    )\n",
        "\n",
        "    # Add a check to see if any data was loaded before splitting\n",
        "    if not images:\n",
        "        print(\"Exiting main function as no data was loaded.\")\n",
        "        return None, [], [], [], [] # Return empty results if no data\n",
        "\n",
        "    print(f\"\\nDataset Summary:\")\n",
        "    print(f\"Total images: {len(images)}\")\n",
        "    print(f\"Real images: {labels.count(0)}\")\n",
        "    print(f\"Fake images: {labels.count(1)}\")\n",
        "    print(f\"Dataset balance: {labels.count(0)/(len(labels))*100:.1f}% real, {labels.count(1)/(len(labels))*100:.1f}% fake\")\n",
        "\n",
        "    # STEP 9.2: SPLIT DATA\n",
        "    # ====================\n",
        "    # Correctly use 'images' and 'labels' returned by create_balanced_dataset\n",
        "    train_images, val_images, train_labels, val_labels = train_test_split(\n",
        "        images, labels, test_size=0.2, random_state=42, stratify=labels\n",
        "    )\n",
        "\n",
        "    print(f\"Training set: {len(train_images)} images\")\n",
        "    print(f\"Validation set: {len(val_images)} images\")\n",
        "\n",
        "    # STEP 9.3: CREATE DATASETS AND DATALOADERS\n",
        "    # ==========================================\n",
        "    train_dataset = DeepfakeDataset(train_images, train_labels, transform=train_transform)\n",
        "    val_dataset = DeepfakeDataset(val_images, val_labels, transform=val_transform)\n",
        "\n",
        "    batch_size = 16\n",
        "    train_loader = DataLoader(train_dataset, batch_size=batch_size, shuffle=True, num_workers=0)\n",
        "    val_loader = DataLoader(val_dataset, batch_size=batch_size, shuffle=False, num_workers=0)\n",
        "\n",
        "    # STEP 9.4: INITIALIZE MODEL\n",
        "    # ==========================\n",
        "    model = DeepfakeDetector(model_name='efficientnet_b4', num_classes=1, pretrained=True)\n",
        "    model = model.to(device)\n",
        "\n",
        "    # Print model info\n",
        "    total_params = sum(p.numel() for p in model.parameters())\n",
        "    trainable_params = sum(p.numel() for p in model.parameters() if p.requires_grad)\n",
        "    print(f\"Total parameters: {total_params:,}\")\n",
        "    print(f\"Trainable parameters: {trainable_params:,}\")\n",
        "\n",
        "    # STEP 9.5: SETUP TRAINING\n",
        "    # ========================\n",
        "    criterion = nn.BCELoss()\n",
        "    optimizer = optim.Adam(model.parameters(), lr=1e-4, weight_decay=1e-5)\n",
        "    scheduler = optim.lr_scheduler.ReduceLROnPlateau(optimizer, mode='min', patience=3, factor=0.5)\n",
        "\n",
        "    # STEP 9.6: TRAINING LOOP\n",
        "    # =======================\n",
        "    num_epochs = 20\n",
        "    best_val_acc = 0.0\n",
        "    train_losses = []\n",
        "    train_accs = []\n",
        "    val_losses = []\n",
        "    val_accs = []\n",
        "\n",
        "    print(\"Starting training...\")\n",
        "\n",
        "    for epoch in range(num_epochs):\n",
        "        print(f\"\\nEpoch {epoch+1}/{num_epochs}\")\n",
        "        print(\"-\" * 50)\n",
        "\n",
        "        # Training phase\n",
        "        train_loss, train_acc = train_epoch(model, train_loader, criterion, optimizer, device)\n",
        "\n",
        "        # Validation phase\n",
        "        val_loss, val_acc, val_preds, val_labels = validate_epoch(model, val_loader, criterion, device)\n",
        "\n",
        "        # Update learning rate\n",
        "        scheduler.step(val_loss)\n",
        "\n",
        "        # Store metrics\n",
        "        train_losses.append(train_loss)\n",
        "        train_accs.append(train_acc)\n",
        "        val_losses.append(val_loss)\n",
        "        val_accs.append(val_acc)\n",
        "\n",
        "        print(f\"Train Loss: {train_loss:.4f}, Train Acc: {train_acc:.4f}\")\n",
        "        print(f\"Val Loss: {val_loss:.4f}, Val Acc: {val_acc:.4f}\")\n",
        "        print(f\"Learning Rate: {optimizer.param_groups[0]['lr']:.6f}\")\n",
        "\n",
        "        # Save best model\n",
        "        if val_acc > best_val_acc:\n",
        "            best_val_acc = val_acc\n",
        "            torch.save({\n",
        "                'epoch': epoch,\n",
        "                'model_state_dict': model.state_dict(),\n",
        "                'optimizer_state_dict': optimizer.state_dict(),\n",
        "                'val_acc': val_acc,\n",
        "                'val_loss': val_loss\n",
        "            }, f'{base_dir}/models/best_model.pth')\n",
        "            print(f\"New best model saved! Val Acc: {val_acc:.4f}\")\n",
        "\n",
        "    # STEP 9.7: FINAL EVALUATION AND VISUALIZATION\n",
        "    # ============================================\n",
        "    print(\"\\nTraining completed!\")\n",
        "    print(f\"Best validation accuracy: {best_val_acc:.4f}\")\n",
        "\n",
        "    # Plot training curves\n",
        "    plt.figure(figsize=(15, 5))\n",
        "\n",
        "    plt.subplot(1, 3, 1)\n",
        "    plt.plot(train_losses, label='Train Loss')\n",
        "    plt.plot(val_losses, label='Validation Loss')\n",
        "    plt.title('Training and Validation Loss')\n",
        "    plt.xlabel('Epoch')\n",
        "    plt.ylabel('Loss')\n",
        "    plt.legend()\n",
        "\n",
        "    plt.subplot(1, 3, 2)\n",
        "    plt.plot(train_accs, label='Train Accuracy')\n",
        "    plt.plot(val_accs, label='Validation Accuracy')\n",
        "    plt.title('Training and Validation Accuracy')\n",
        "    plt.xlabel('Epoch')\n",
        "    plt.ylabel('Accuracy')\n",
        "    plt.legend()\n",
        "\n",
        "    plt.subplot(1, 3, 3)\n",
        "    cm = confusion_matrix(val_labels, val_preds)\n",
        "    sns.heatmap(cm, annot=True, fmt='d', cmap='Blues')\n",
        "    plt.title('Confusion Matrix')\n",
        "    plt.ylabel('True Label')\n",
        "    plt.xlabel('Predicted Label')\n",
        "\n",
        "    plt.tight_layout()\n",
        "    plt.savefig(f'{base_dir}/results/training_results.png', dpi=300, bbox_inches='tight')\n",
        "    plt.show()\n",
        "\n",
        "    # Classification report\n",
        "    print(\"\\nClassification Report:\")\n",
        "    print(classification_report(val_labels, val_preds, target_names=['Real', 'Fake']))\n",
        "\n",
        "    return model, train_losses, val_losses, train_accs, val_accs"
      ],
      "metadata": {
        "id": "KNPGhsVKmQnP"
      },
      "execution_count": null,
      "outputs": []
    },
    {
      "cell_type": "markdown",
      "source": [
        "## INFERENCE FUNCTION"
      ],
      "metadata": {
        "id": "-ctqQ6dUmdZA"
      }
    },
    {
      "cell_type": "code",
      "source": [
        "def predict_single_image(model, image_path, transform, device):\n",
        "    \"\"\"Predict if a single image is real or fake\"\"\"\n",
        "    model.eval()\n",
        "\n",
        "    # Load and preprocess image\n",
        "    image = cv2.imread(image_path)\n",
        "    image = cv2.cvtColor(image, cv2.COLOR_BGR2RGB)\n",
        "    image = cv2.resize(image, (224, 224))\n",
        "\n",
        "    # Apply transform\n",
        "    if transform:\n",
        "        transformed = transform(image=image)\n",
        "        image = transformed['image']\n",
        "\n",
        "    # Add batch dimension\n",
        "    image = image.unsqueeze(0).to(device)\n",
        "\n",
        "    with torch.no_grad():\n",
        "        output = model(image)\n",
        "        probability = output.item()\n",
        "        prediction = \"Fake\" if probability > 0.5 else \"Real\"\n",
        "\n",
        "    return prediction, probability"
      ],
      "metadata": {
        "id": "foBXmcc1mgJ3"
      },
      "execution_count": null,
      "outputs": []
    },
    {
      "cell_type": "markdown",
      "source": [
        "## RUN THE TRAINING"
      ],
      "metadata": {
        "id": "QGDEiiSLmj_n"
      }
    },
    {
      "cell_type": "code",
      "source": [
        "if __name__ == \"__main__\":\n",
        "    print(\"Starting Deepfake Detection Model Training\")\n",
        "    print(\"=\" * 60)\n",
        "\n",
        "    # Run main training function\n",
        "    model, train_losses, val_losses, train_accs, val_accs = main()\n",
        "\n",
        "    print(\"\\nTraining script completed successfully!\")\n",
        "    print(\"Check the results in:\", f'{base_dir}/results/')\n",
        "    print(\"Best model saved at:\", f'{base_dir}/models/best_model.pth')"
      ],
      "metadata": {
        "colab": {
          "base_uri": "https://localhost:8080/",
          "height": 1000,
          "referenced_widgets": [
            "0f541ae304294ce6913dc0e58bf2652c",
            "9ff89e5c7a0a4a37a300081d8826e09a",
            "a10d64f3bcec45d79f114689e05f64b9",
            "390f3297a2374f7dbf00a4c0ddc8f064",
            "7b32705b15cd43ca9d76e2b12bc41c2b",
            "e8bde837e2864d50bb465cce11004327",
            "b99a4a007087409aaa2102c64422dd9c",
            "ecf6830568714195bf0baa8e50505168",
            "947bbb8741014870996eae903f650091",
            "1dedf48cca084f2baaf893b0ca28650a",
            "7d3f0406c20b455eaf3e554a3acc7b75"
          ]
        },
        "id": "UI4kMxXtmnLP",
        "outputId": "c7d64025-0ee2-4527-edb3-7fcecd473fc4"
      },
      "execution_count": null,
      "outputs": [
        {
          "output_type": "stream",
          "name": "stdout",
          "text": [
            "Starting Deepfake Detection Model Training\n",
            "============================================================\n",
            "Step 1: Loading FaceForensics++ dataset from Kaggle...\n",
            "Loading FaceForensics++ dataset from Kaggle...\n",
            "Downloading from https://www.kaggle.com/api/v1/datasets/download/xdxd003/ff-c23?dataset_version_number=1...\n"
          ]
        },
        {
          "output_type": "stream",
          "name": "stderr",
          "text": [
            "100%|██████████| 16.7G/16.7G [04:03<00:00, 73.6MB/s]"
          ]
        },
        {
          "output_type": "stream",
          "name": "stdout",
          "text": [
            "Extracting files...\n"
          ]
        },
        {
          "output_type": "stream",
          "name": "stderr",
          "text": [
            "\n"
          ]
        },
        {
          "output_type": "stream",
          "name": "stdout",
          "text": [
            "Dataset downloaded to: /root/.cache/kagglehub/datasets/xdxd003/ff-c23/versions/1\n",
            "Contents of /root/.cache/kagglehub/datasets/xdxd003/ff-c23/versions/1: ['FaceForensics++_C23']\n",
            "Updated dataset path: /root/.cache/kagglehub/datasets/xdxd003/ff-c23/versions/1/FaceForensics++_C23\n",
            "Contents of /root/.cache/kagglehub/datasets/xdxd003/ff-c23/versions/1/FaceForensics++_C23: ['Face2Face', 'original', 'FaceShifter', 'DeepFakeDetection', 'csv', 'NeuralTextures', 'Deepfakes', 'FaceSwap']\n",
            "Dataset Structure:\n",
            "==================================================\n",
            "DeepFakeDetection/: 1000 videos\n",
            "Deepfakes/: 1000 videos\n",
            "Face2Face/: 1000 videos\n",
            "FaceShifter/: 1000 videos\n",
            "FaceSwap/: 1000 videos\n",
            "NeuralTextures/: 1000 videos\n",
            "original/: 1000 videos\n",
            "csv/: 10 CSV files\n",
            "\n",
            "Found CSV files: ['Mean_Data.csv', 'FF++_Metadata_Shuffled.csv', 'FaceSwap.csv', 'Deepfakes.csv', 'NeuralTextures.csv', 'DeepFakeDetection.csv', 'FF++_Metadata.csv', 'FaceShifter.csv', 'original.csv', 'Face2Face.csv']\n",
            "\n",
            "Sample CSV structure (Mean_Data.csv):\n",
            "          Unnamed: 0  Frame Count Mean  Width Mean  Height Mean  \\\n",
            "0  DeepFakeDetection           733.791    1920.000     1080.000   \n",
            "1          Deepfakes           509.128    1036.348      636.718   \n",
            "2          Face2Face           509.128    1030.912      636.718   \n",
            "3        FaceShifter           509.128    1036.348      636.718   \n",
            "4           FaceSwap           406.140    1036.348      636.718   \n",
            "\n",
            "   File Size(MB) Mean  \n",
            "0             6.63761  \n",
            "1             1.90042  \n",
            "2             1.85666  \n",
            "3             1.82796  \n",
            "4             1.56358  \n",
            "CSV shape: (7, 5)\n",
            "\n",
            "Creating balanced dataset...\n",
            "Creating balanced dataset with 1000 samples per class...\n"
          ]
        },
        {
          "output_type": "stream",
          "name": "stderr",
          "text": [
            "Processing real videos:   7%|▋         | 68/1000 [10:48<2:28:05,  9.53s/it]\n",
            "Processing DeepFakeDetection:   7%|▋         | 69/1000 [20:39<4:38:41, 17.96s/it]\n"
          ]
        },
        {
          "output_type": "stream",
          "name": "stdout",
          "text": [
            "Final dataset: 1000 real + 1000 fake = 2000 total\n",
            "\n",
            "Dataset Summary:\n",
            "Total images: 2000\n",
            "Real images: 1000\n",
            "Fake images: 1000\n",
            "Dataset balance: 50.0% real, 50.0% fake\n",
            "Training set: 1600 images\n",
            "Validation set: 400 images\n"
          ]
        },
        {
          "output_type": "display_data",
          "data": {
            "text/plain": [
              "model.safetensors:   0%|          | 0.00/77.9M [00:00<?, ?B/s]"
            ],
            "application/vnd.jupyter.widget-view+json": {
              "version_major": 2,
              "version_minor": 0,
              "model_id": "0f541ae304294ce6913dc0e58bf2652c"
            }
          },
          "metadata": {}
        },
        {
          "output_type": "stream",
          "name": "stdout",
          "text": [
            "Total parameters: 18,598,217\n",
            "Trainable parameters: 18,598,217\n",
            "Starting training...\n",
            "\n",
            "Epoch 1/20\n",
            "--------------------------------------------------\n"
          ]
        },
        {
          "output_type": "stream",
          "name": "stderr",
          "text": [
            "Training: 100%|██████████| 100/100 [00:36<00:00,  2.74it/s, Loss=0.3337, Acc=64.00%]\n",
            "Validation: 100%|██████████| 25/25 [00:03<00:00,  6.29it/s, Loss=0.2399, Acc=97.50%]\n"
          ]
        },
        {
          "output_type": "stream",
          "name": "stdout",
          "text": [
            "Train Loss: 0.6245, Train Acc: 0.6400\n",
            "Val Loss: 0.2395, Val Acc: 0.9750\n",
            "Learning Rate: 0.000100\n",
            "New best model saved! Val Acc: 0.9750\n",
            "\n",
            "Epoch 2/20\n",
            "--------------------------------------------------\n"
          ]
        },
        {
          "output_type": "stream",
          "name": "stderr",
          "text": [
            "Training: 100%|██████████| 100/100 [00:34<00:00,  2.86it/s, Loss=0.0852, Acc=90.62%]\n",
            "Validation: 100%|██████████| 25/25 [00:03<00:00,  6.30it/s, Loss=0.0065, Acc=99.00%]\n"
          ]
        },
        {
          "output_type": "stream",
          "name": "stdout",
          "text": [
            "Train Loss: 0.2122, Train Acc: 0.9062\n",
            "Val Loss: 0.0262, Val Acc: 0.9900\n",
            "Learning Rate: 0.000100\n",
            "New best model saved! Val Acc: 0.9900\n",
            "\n",
            "Epoch 3/20\n",
            "--------------------------------------------------\n"
          ]
        },
        {
          "output_type": "stream",
          "name": "stderr",
          "text": [
            "Training: 100%|██████████| 100/100 [00:39<00:00,  2.52it/s, Loss=0.0952, Acc=94.56%]\n",
            "Validation: 100%|██████████| 25/25 [00:03<00:00,  6.98it/s, Loss=0.0021, Acc=99.75%]\n"
          ]
        },
        {
          "output_type": "stream",
          "name": "stdout",
          "text": [
            "Train Loss: 0.1319, Train Acc: 0.9456\n",
            "Val Loss: 0.0080, Val Acc: 0.9975\n",
            "Learning Rate: 0.000100\n",
            "New best model saved! Val Acc: 0.9975\n",
            "\n",
            "Epoch 4/20\n",
            "--------------------------------------------------\n"
          ]
        },
        {
          "output_type": "stream",
          "name": "stderr",
          "text": [
            "Training: 100%|██████████| 100/100 [00:39<00:00,  2.55it/s, Loss=0.1361, Acc=95.25%]\n",
            "Validation: 100%|██████████| 25/25 [00:03<00:00,  6.79it/s, Loss=0.0021, Acc=100.00%]\n"
          ]
        },
        {
          "output_type": "stream",
          "name": "stdout",
          "text": [
            "Train Loss: 0.1146, Train Acc: 0.9525\n",
            "Val Loss: 0.0051, Val Acc: 1.0000\n",
            "Learning Rate: 0.000100\n",
            "New best model saved! Val Acc: 1.0000\n",
            "\n",
            "Epoch 5/20\n",
            "--------------------------------------------------\n"
          ]
        },
        {
          "output_type": "stream",
          "name": "stderr",
          "text": [
            "Training: 100%|██████████| 100/100 [00:39<00:00,  2.55it/s, Loss=0.0505, Acc=96.81%]\n",
            "Validation: 100%|██████████| 25/25 [00:03<00:00,  6.31it/s, Loss=0.0011, Acc=100.00%]\n"
          ]
        },
        {
          "output_type": "stream",
          "name": "stdout",
          "text": [
            "Train Loss: 0.0746, Train Acc: 0.9681\n",
            "Val Loss: 0.0037, Val Acc: 1.0000\n",
            "Learning Rate: 0.000100\n",
            "\n",
            "Epoch 6/20\n",
            "--------------------------------------------------\n"
          ]
        },
        {
          "output_type": "stream",
          "name": "stderr",
          "text": [
            "Training: 100%|██████████| 100/100 [00:34<00:00,  2.91it/s, Loss=0.1605, Acc=97.00%]\n",
            "Validation: 100%|██████████| 25/25 [00:03<00:00,  6.62it/s, Loss=0.0007, Acc=100.00%]\n"
          ]
        },
        {
          "output_type": "stream",
          "name": "stdout",
          "text": [
            "Train Loss: 0.0725, Train Acc: 0.9700\n",
            "Val Loss: 0.0029, Val Acc: 1.0000\n",
            "Learning Rate: 0.000100\n",
            "\n",
            "Epoch 7/20\n",
            "--------------------------------------------------\n"
          ]
        },
        {
          "output_type": "stream",
          "name": "stderr",
          "text": [
            "Training: 100%|██████████| 100/100 [00:34<00:00,  2.91it/s, Loss=0.0539, Acc=97.19%]\n",
            "Validation: 100%|██████████| 25/25 [00:03<00:00,  6.73it/s, Loss=0.0010, Acc=100.00%]\n"
          ]
        },
        {
          "output_type": "stream",
          "name": "stdout",
          "text": [
            "Train Loss: 0.0675, Train Acc: 0.9719\n",
            "Val Loss: 0.0017, Val Acc: 1.0000\n",
            "Learning Rate: 0.000100\n",
            "\n",
            "Epoch 8/20\n",
            "--------------------------------------------------\n"
          ]
        },
        {
          "output_type": "stream",
          "name": "stderr",
          "text": [
            "Training: 100%|██████████| 100/100 [00:34<00:00,  2.90it/s, Loss=0.0078, Acc=96.75%]\n",
            "Validation: 100%|██████████| 25/25 [00:03<00:00,  6.87it/s, Loss=0.0012, Acc=100.00%]\n"
          ]
        },
        {
          "output_type": "stream",
          "name": "stdout",
          "text": [
            "Train Loss: 0.0763, Train Acc: 0.9675\n",
            "Val Loss: 0.0030, Val Acc: 1.0000\n",
            "Learning Rate: 0.000100\n",
            "\n",
            "Epoch 9/20\n",
            "--------------------------------------------------\n"
          ]
        },
        {
          "output_type": "stream",
          "name": "stderr",
          "text": [
            "Training: 100%|██████████| 100/100 [00:34<00:00,  2.88it/s, Loss=0.0162, Acc=98.19%]\n",
            "Validation: 100%|██████████| 25/25 [00:03<00:00,  6.82it/s, Loss=0.0003, Acc=99.75%]\n"
          ]
        },
        {
          "output_type": "stream",
          "name": "stdout",
          "text": [
            "Train Loss: 0.0519, Train Acc: 0.9819\n",
            "Val Loss: 0.0065, Val Acc: 0.9975\n",
            "Learning Rate: 0.000100\n",
            "\n",
            "Epoch 10/20\n",
            "--------------------------------------------------\n"
          ]
        },
        {
          "output_type": "stream",
          "name": "stderr",
          "text": [
            "Training: 100%|██████████| 100/100 [00:34<00:00,  2.89it/s, Loss=0.1179, Acc=98.44%]\n",
            "Validation: 100%|██████████| 25/25 [00:03<00:00,  6.76it/s, Loss=0.0004, Acc=99.75%]\n"
          ]
        },
        {
          "output_type": "stream",
          "name": "stdout",
          "text": [
            "Train Loss: 0.0489, Train Acc: 0.9844\n",
            "Val Loss: 0.0040, Val Acc: 0.9975\n",
            "Learning Rate: 0.000100\n",
            "\n",
            "Epoch 11/20\n",
            "--------------------------------------------------\n"
          ]
        },
        {
          "output_type": "stream",
          "name": "stderr",
          "text": [
            "Training: 100%|██████████| 100/100 [00:34<00:00,  2.88it/s, Loss=0.0080, Acc=98.00%]\n",
            "Validation: 100%|██████████| 25/25 [00:03<00:00,  6.86it/s, Loss=0.0003, Acc=100.00%]\n"
          ]
        },
        {
          "output_type": "stream",
          "name": "stdout",
          "text": [
            "Train Loss: 0.0468, Train Acc: 0.9800\n",
            "Val Loss: 0.0018, Val Acc: 1.0000\n",
            "Learning Rate: 0.000050\n",
            "\n",
            "Epoch 12/20\n",
            "--------------------------------------------------\n"
          ]
        },
        {
          "output_type": "stream",
          "name": "stderr",
          "text": [
            "Training: 100%|██████████| 100/100 [00:34<00:00,  2.87it/s, Loss=0.0102, Acc=98.62%]\n",
            "Validation: 100%|██████████| 25/25 [00:03<00:00,  6.68it/s, Loss=0.0004, Acc=100.00%]\n"
          ]
        },
        {
          "output_type": "stream",
          "name": "stdout",
          "text": [
            "Train Loss: 0.0361, Train Acc: 0.9862\n",
            "Val Loss: 0.0007, Val Acc: 1.0000\n",
            "Learning Rate: 0.000050\n",
            "\n",
            "Epoch 13/20\n",
            "--------------------------------------------------\n"
          ]
        },
        {
          "output_type": "stream",
          "name": "stderr",
          "text": [
            "Training: 100%|██████████| 100/100 [00:34<00:00,  2.88it/s, Loss=0.0017, Acc=98.81%]\n",
            "Validation: 100%|██████████| 25/25 [00:03<00:00,  6.45it/s, Loss=0.0004, Acc=100.00%]\n"
          ]
        },
        {
          "output_type": "stream",
          "name": "stdout",
          "text": [
            "Train Loss: 0.0315, Train Acc: 0.9881\n",
            "Val Loss: 0.0005, Val Acc: 1.0000\n",
            "Learning Rate: 0.000050\n",
            "\n",
            "Epoch 14/20\n",
            "--------------------------------------------------\n"
          ]
        },
        {
          "output_type": "stream",
          "name": "stderr",
          "text": [
            "Training: 100%|██████████| 100/100 [00:34<00:00,  2.92it/s, Loss=0.1569, Acc=98.88%]\n",
            "Validation: 100%|██████████| 25/25 [00:03<00:00,  6.40it/s, Loss=0.0003, Acc=100.00%]\n"
          ]
        },
        {
          "output_type": "stream",
          "name": "stdout",
          "text": [
            "Train Loss: 0.0323, Train Acc: 0.9888\n",
            "Val Loss: 0.0005, Val Acc: 1.0000\n",
            "Learning Rate: 0.000050\n",
            "\n",
            "Epoch 15/20\n",
            "--------------------------------------------------\n"
          ]
        },
        {
          "output_type": "stream",
          "name": "stderr",
          "text": [
            "Training: 100%|██████████| 100/100 [00:34<00:00,  2.92it/s, Loss=0.0052, Acc=99.06%]\n",
            "Validation: 100%|██████████| 25/25 [00:04<00:00,  6.10it/s, Loss=0.0002, Acc=100.00%]\n"
          ]
        },
        {
          "output_type": "stream",
          "name": "stdout",
          "text": [
            "Train Loss: 0.0279, Train Acc: 0.9906\n",
            "Val Loss: 0.0005, Val Acc: 1.0000\n",
            "Learning Rate: 0.000050\n",
            "\n",
            "Epoch 16/20\n",
            "--------------------------------------------------\n"
          ]
        },
        {
          "output_type": "stream",
          "name": "stderr",
          "text": [
            "Training: 100%|██████████| 100/100 [00:34<00:00,  2.92it/s, Loss=0.0355, Acc=98.88%]\n",
            "Validation: 100%|██████████| 25/25 [00:03<00:00,  6.48it/s, Loss=0.0005, Acc=100.00%]\n"
          ]
        },
        {
          "output_type": "stream",
          "name": "stdout",
          "text": [
            "Train Loss: 0.0337, Train Acc: 0.9888\n",
            "Val Loss: 0.0007, Val Acc: 1.0000\n",
            "Learning Rate: 0.000050\n",
            "\n",
            "Epoch 17/20\n",
            "--------------------------------------------------\n"
          ]
        },
        {
          "output_type": "stream",
          "name": "stderr",
          "text": [
            "Training: 100%|██████████| 100/100 [00:34<00:00,  2.88it/s, Loss=0.0006, Acc=99.06%]\n",
            "Validation: 100%|██████████| 25/25 [00:03<00:00,  6.52it/s, Loss=0.0001, Acc=100.00%]\n"
          ]
        },
        {
          "output_type": "stream",
          "name": "stdout",
          "text": [
            "Train Loss: 0.0247, Train Acc: 0.9906\n",
            "Val Loss: 0.0005, Val Acc: 1.0000\n",
            "Learning Rate: 0.000050\n",
            "\n",
            "Epoch 18/20\n",
            "--------------------------------------------------\n"
          ]
        },
        {
          "output_type": "stream",
          "name": "stderr",
          "text": [
            "Training: 100%|██████████| 100/100 [00:34<00:00,  2.87it/s, Loss=0.0249, Acc=99.12%]\n",
            "Validation: 100%|██████████| 25/25 [00:03<00:00,  6.64it/s, Loss=0.0001, Acc=100.00%]\n"
          ]
        },
        {
          "output_type": "stream",
          "name": "stdout",
          "text": [
            "Train Loss: 0.0289, Train Acc: 0.9912\n",
            "Val Loss: 0.0003, Val Acc: 1.0000\n",
            "Learning Rate: 0.000050\n",
            "\n",
            "Epoch 19/20\n",
            "--------------------------------------------------\n"
          ]
        },
        {
          "output_type": "stream",
          "name": "stderr",
          "text": [
            "Training: 100%|██████████| 100/100 [00:34<00:00,  2.87it/s, Loss=0.0592, Acc=99.31%]\n",
            "Validation: 100%|██████████| 25/25 [00:03<00:00,  6.63it/s, Loss=0.0000, Acc=100.00%]\n"
          ]
        },
        {
          "output_type": "stream",
          "name": "stdout",
          "text": [
            "Train Loss: 0.0203, Train Acc: 0.9931\n",
            "Val Loss: 0.0004, Val Acc: 1.0000\n",
            "Learning Rate: 0.000050\n",
            "\n",
            "Epoch 20/20\n",
            "--------------------------------------------------\n"
          ]
        },
        {
          "output_type": "stream",
          "name": "stderr",
          "text": [
            "Training: 100%|██████████| 100/100 [00:34<00:00,  2.88it/s, Loss=0.0006, Acc=98.31%]\n",
            "Validation: 100%|██████████| 25/25 [00:03<00:00,  6.62it/s, Loss=0.0001, Acc=100.00%]\n"
          ]
        },
        {
          "output_type": "stream",
          "name": "stdout",
          "text": [
            "Train Loss: 0.0388, Train Acc: 0.9831\n",
            "Val Loss: 0.0004, Val Acc: 1.0000\n",
            "Learning Rate: 0.000050\n",
            "\n",
            "Training completed!\n",
            "Best validation accuracy: 1.0000\n"
          ]
        },
        {
          "output_type": "display_data",
          "data": {
            "text/plain": [
              "<Figure size 1500x500 with 4 Axes>"
            ],
            "image/png": "[encoded data removed]"
          },
          "metadata": {}
        },
        {
          "output_type": "stream",
          "name": "stdout",
          "text": [
            "\n",
            "Classification Report:\n",
            "              precision    recall  f1-score   support\n",
            "\n",
            "        Real       1.00      1.00      1.00       200\n",
            "        Fake       1.00      1.00      1.00       200\n",
            "\n",
            "    accuracy                           1.00       400\n",
            "   macro avg       1.00      1.00      1.00       400\n",
            "weighted avg       1.00      1.00      1.00       400\n",
            "\n",
            "\n",
            "Training script completed successfully!\n",
            "Check the results in: /content/drive/MyDrive/deepfake_detection/results/\n",
            "Best model saved at: /content/drive/MyDrive/deepfake_detection/models/best_model.pth\n"
          ]
        }
      ]
    }
  ]
}